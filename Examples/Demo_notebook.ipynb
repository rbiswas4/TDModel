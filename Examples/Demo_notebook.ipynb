{
 "cells": [
  {
   "cell_type": "code",
   "execution_count": 1,
   "metadata": {},
   "outputs": [],
   "source": [
    "import sncosmo, tdam"
   ]
  },
  {
   "cell_type": "code",
   "execution_count": 2,
   "metadata": {},
   "outputs": [],
   "source": [
    "model = sncosmo.Model(source='v19_asassn15oz', effect_frames=['obs', 'rest'],\n",
    "                     effect_names=['mw', 'host'],\n",
    "                      effects=[sncosmo.CCM89Dust(), sncosmo.CCM89Dust()])"
   ]
  },
  {
   "cell_type": "code",
   "execution_count": 2,
   "metadata": {},
   "outputs": [],
   "source": [
    "model = tdam.CompositeModel(source='v19_asassn15oz')"
   ]
  },
  {
   "cell_type": "code",
   "execution_count": 3,
   "metadata": {},
   "outputs": [
    {
     "data": {
      "text/plain": [
       "['z', 't0', 'amplitude', 'mwebv', 'mwr_v', 'hostebv', 'hostr_v']"
      ]
     },
     "execution_count": 3,
     "metadata": {},
     "output_type": "execute_result"
    }
   ],
   "source": [
    "model.param_names"
   ]
  },
  {
   "cell_type": "code",
   "execution_count": 10,
   "metadata": {},
   "outputs": [
    {
     "data": {
      "text/plain": [
       "<TimeSeriesSource 'v19_asassn15oz' version='1.2_noHostExtCorr' at 0x11a8ac6a0>"
      ]
     },
     "execution_count": 10,
     "metadata": {},
     "output_type": "execute_result"
    }
   ],
   "source": [
    "sncosmo.get_source('v19_asassn15oz')"
   ]
  },
  {
   "cell_type": "code",
   "execution_count": 14,
   "metadata": {},
   "outputs": [],
   "source": [
    "from sncosmo.models import _SOURCES"
   ]
  },
  {
   "cell_type": "code",
   "execution_count": 17,
   "metadata": {},
   "outputs": [],
   "source": [
    "sources = _SOURCES.get_loaders_metadata()"
   ]
  },
  {
   "cell_type": "code",
   "execution_count": 18,
   "metadata": {},
   "outputs": [
    {
     "data": {
      "text/plain": [
       "{'name': 'nugent-sn1a',\n",
       " 'version': '1.2',\n",
       " 'url': 'https://c3.lbl.gov/nugent/nugent_templates.html',\n",
       " 'type': 'SN Ia',\n",
       " 'subclass': '`~sncosmo.TimeSeriesSource`',\n",
       " 'reference': ('N02',\n",
       "  'Nugent, Kim & Permutter 2002 <http://adsabs.harvard.edu/abs/2002PASP..114..803N>')}"
      ]
     },
     "execution_count": 18,
     "metadata": {},
     "output_type": "execute_result"
    }
   ],
   "source": [
    "sources[0]"
   ]
  },
  {
   "cell_type": "code",
   "execution_count": 21,
   "metadata": {},
   "outputs": [],
   "source": [
    "lst = []\n",
    "for source in sources:\n",
    "    lst.append((source['name'], source['type']))"
   ]
  },
  {
   "cell_type": "code",
   "execution_count": 23,
   "metadata": {},
   "outputs": [],
   "source": [
    "import pandas as pd"
   ]
  },
  {
   "cell_type": "code",
   "execution_count": 27,
   "metadata": {},
   "outputs": [],
   "source": [
    "data = pd.DataFrame(lst, columns=['name', 'type'])"
   ]
  },
  {
   "cell_type": "code",
   "execution_count": 39,
   "metadata": {},
   "outputs": [
    {
     "data": {
      "text/plain": [
       "52"
      ]
     },
     "execution_count": 39,
     "metadata": {},
     "output_type": "execute_result"
    }
   ],
   "source": [
    "len(data.query('\"SN IIP\" in type'))"
   ]
  },
  {
   "cell_type": "code",
   "execution_count": 40,
   "metadata": {},
   "outputs": [
    {
     "data": {
      "text/plain": [
       "252"
      ]
     },
     "execution_count": 40,
     "metadata": {},
     "output_type": "execute_result"
    }
   ],
   "source": [
    "len(sources)"
   ]
  },
  {
   "cell_type": "code",
   "execution_count": 42,
   "metadata": {},
   "outputs": [
    {
     "name": "stdout",
     "output_type": "stream",
     "text": [
      "Downloading http://c3.lbl.gov/nugent/templates/sn1a_flux.v1.2.dat.gz [Done]\n",
      "Downloading http://c3.lbl.gov/nugent/templates/sn91t_flux.v1.1.dat.gz [Done]\n",
      "Downloading http://c3.lbl.gov/nugent/templates/sn91bg_flux.v1.1.dat.gz [Done]\n",
      "Downloading http://c3.lbl.gov/nugent/templates/sn1bc_flux.v1.1.dat.gz [Done]\n",
      "Downloading http://c3.lbl.gov/nugent/templates/hyper_flux.v1.2.dat.gz [Done]\n",
      "Downloading http://c3.lbl.gov/nugent/templates/sn2p_flux.v1.2.dat.gz [Done]\n",
      "Downloading http://c3.lbl.gov/nugent/templates/sn2l_flux.v1.2.dat.gz [Done]\n",
      "Downloading http://sncosmo.github.io/data/models/sako/S11_SDSS-000018.SED [Done]\n",
      "Downloading http://sncosmo.github.io/data/models/sako/S11_SDSS-001472.SED [Done]\n",
      "Downloading http://sncosmo.github.io/data/models/sako/S11_SDSS-002000.SED [Done]\n",
      "Downloading http://sncosmo.github.io/data/models/sako/S11_SDSS-002744.SED [Done]\n",
      "Downloading http://sncosmo.github.io/data/models/sako/S11_SDSS-003818.SED [Done]\n",
      "Downloading http://sncosmo.github.io/data/models/sako/S11_SDSS-013195.SED [Done]\n",
      "Downloading http://sncosmo.github.io/data/models/sako/S11_SDSS-014492.SED [Done]\n",
      "Downloading http://sncosmo.github.io/data/models/sako/S11_SDSS-014599.SED [Done]\n",
      "Downloading http://sncosmo.github.io/data/models/snana/salt2-h17.tar.gz [Done]\n",
      "Downloading http://snfactory.lbl.gov/snf/data/SNfactory_Pereira_etal_2013_SN2011fe.tar.gz [Done]\n",
      "Downloading http://sncosmo.github.io/data/models/pierel/CSP-2004fe.SED [Done]\n",
      "Downloading http://sncosmo.github.io/data/models/pierel/CSP-2004gq.SED [Done]\n",
      "Downloading http://sncosmo.github.io/data/models/pierel/SDSS-004012.SED [Done]\n",
      "Downloading http://sncosmo.github.io/data/models/pierel/SDSS-013195.SED [Done]\n",
      "Downloading http://sncosmo.github.io/data/models/pierel/SDSS-014475.SED [Done]\n",
      "Downloading http://sncosmo.github.io/data/models/pierel/SDSS-015475.SED [Done]\n",
      "Downloading http://sncosmo.github.io/data/models/pierel/SDSS-017548.SED [Done]\n",
      "Downloading http://sncosmo.github.io/data/models/pierel/SNLS-04D1la.SED [Done]\n",
      "Downloading http://sncosmo.github.io/data/models/pierel/SNLS-04D4jv.SED [Done]\n",
      "Downloading http://sncosmo.github.io/data/models/pierel/CSP-2004gv.SED [Done]\n",
      "Downloading http://sncosmo.github.io/data/models/pierel/CSP-2006ep.SED [Done]\n",
      "Downloading http://sncosmo.github.io/data/models/pierel/CSP-2007Y.SED [Done]\n",
      "Downloading http://sncosmo.github.io/data/models/pierel/SDSS-000020.SED [Done]\n",
      "Downloading http://sncosmo.github.io/data/models/pierel/SDSS-002744.SED [Done]\n",
      "Downloading http://sncosmo.github.io/data/models/pierel/SDSS-014492.SED [Done]\n",
      "Downloading http://sncosmo.github.io/data/models/pierel/SDSS-019323.SED [Done]\n",
      "Downloading http://sncosmo.github.io/data/models/pierel/SDSS-000018.SED [Done]\n",
      "Downloading http://sncosmo.github.io/data/models/pierel/SDSS-003818.SED [Done]\n",
      "Downloading http://sncosmo.github.io/data/models/pierel/SDSS-013376.SED [Done]\n",
      "Downloading http://sncosmo.github.io/data/models/pierel/SDSS-014450.SED [Done]\n",
      "Downloading http://sncosmo.github.io/data/models/pierel/SDSS-014599.SED [Done]\n",
      "Downloading http://sncosmo.github.io/data/models/pierel/SDSS-015031.SED [Done]\n",
      "Downloading http://sncosmo.github.io/data/models/pierel/SDSS-015320.SED [Done]\n",
      "Downloading http://sncosmo.github.io/data/models/pierel/SDSS-015339.SED [Done]\n",
      "Downloading http://sncosmo.github.io/data/models/pierel/SDSS-017564.SED [Done]\n",
      "Downloading http://sncosmo.github.io/data/models/pierel/SDSS-017862.SED [Done]\n",
      "Downloading http://sncosmo.github.io/data/models/pierel/SDSS-018109.SED [Done]\n",
      "Downloading http://sncosmo.github.io/data/models/pierel/SDSS-018297.SED [Done]\n",
      "Downloading http://sncosmo.github.io/data/models/pierel/SDSS-018408.SED [Done]\n",
      "Downloading http://sncosmo.github.io/data/models/pierel/SDSS-018441.SED [Done]\n",
      "Downloading http://sncosmo.github.io/data/models/pierel/SDSS-018457.SED [Done]\n",
      "Downloading http://sncosmo.github.io/data/models/pierel/SDSS-018590.SED [Done]\n",
      "Downloading http://sncosmo.github.io/data/models/pierel/SDSS-018596.SED [Done]\n",
      "Downloading http://sncosmo.github.io/data/models/pierel/SDSS-018713.SED [Done]\n",
      "Downloading http://sncosmo.github.io/data/models/pierel/SDSS-018734.SED [Done]\n",
      "Downloading http://sncosmo.github.io/data/models/pierel/SDSS-018793.SED [Done]\n",
      "Downloading http://sncosmo.github.io/data/models/pierel/SDSS-018834.SED [Done]\n",
      "Downloading http://sncosmo.github.io/data/models/pierel/SDSS-018892.SED [Done]\n",
      "Downloading http://sncosmo.github.io/data/models/pierel/SDSS-020038.SED [Done]\n",
      "Downloading http://sncosmo.github.io/data/models/snana/SDSS-012842.SED [Done]\n",
      "Downloading http://sncosmo.github.io/data/models/snana/SDSS-013449.SED [Done]\n",
      "Downloading http://sncosmo.github.io/data/models/whalen/popIII-z15B.sed.restframe10pc.dat [Done]\n",
      "Downloading http://sncosmo.github.io/data/models/whalen/popIII-z15D.sed.restframe10pc.dat [Done]\n",
      "Downloading http://sncosmo.github.io/data/models/whalen/popIII-z15G.sed.restframe10pc.dat [Done]\n",
      "Downloading http://sncosmo.github.io/data/models/whalen/popIII-z25B.sed.restframe10pc.dat [Done]\n",
      "Downloading http://sncosmo.github.io/data/models/whalen/popIII-z25D.sed.restframe10pc.dat [Done]\n",
      "Downloading http://sncosmo.github.io/data/models/whalen/popIII-z25G.sed.restframe10pc.dat [Done]\n",
      "Downloading http://sncosmo.github.io/data/models/whalen/popIII-z40B.sed.restframe10pc.dat [Done]\n",
      "Downloading http://sncosmo.github.io/data/models/whalen/popIII-z40G.sed.restframe10pc.dat [Done]\n",
      "Downloading http://www.physics.rutgers.edu/~saurabh/xfer/mlcs2k2.modelflux.v1.0.fits [Done]\n",
      "Downloading http://snfactory.lbl.gov/snemo/snemo2_ev.dat [Done]\n",
      "Downloading http://snfactory.lbl.gov/snemo/snemo7_ev.dat [Done]\n",
      "Downloading http://snfactory.lbl.gov/snemo/snemo15_ev.dat [Done]\n"
     ]
    }
   ],
   "source": [
    "params = []\n",
    "for source in sources:\n",
    "    model = sncosmo.Model(source=source['name'])\n",
    "    params.append(model.param_names)"
   ]
  },
  {
   "cell_type": "code",
   "execution_count": 49,
   "metadata": {},
   "outputs": [
    {
     "name": "stdout",
     "output_type": "stream",
     "text": [
      "v19_asassn14jb SN II 1.1_HostExtCorr\n",
      "v19_asassn15oz SN II 1.1_HostExtCorr\n",
      "v19_1987a SN II 1.1_HostExtCorr\n",
      "v19_1993j SN IIb 1.1_HostExtCorr\n",
      "v19_1999dn SN IIb 1.1_HostExtCorr\n",
      "v19_1999em SN II 1.1_HostExtCorr\n",
      "v19_2004et SN II 1.1_HostExtCorr\n",
      "v19_2006t SN IIb 1.1_HostExtCorr\n",
      "v19_2006aa SN IIn 1.1_HostExtCorr\n",
      "v19_2007od SN II 1.1_HostExtCorr\n",
      "v19_2007pk SN IIn 1.1_HostExtCorr\n",
      "v19_2008aq SN IIb 1.1_HostExtCorr\n",
      "v19_2008ax SN IIb 1.1_HostExtCorr\n",
      "v19_2008bj SN II 1.1_HostExtCorr\n",
      "v19_2008bo SN IIb 1.1_HostExtCorr\n",
      "v19_2008fq SN IIn 1.1_HostExtCorr\n",
      "v19_2008in SN II 1.1_HostExtCorr\n",
      "v19_2009n SN II 1.1_HostExtCorr\n",
      "v19_2009bw SN II 1.1_HostExtCorr\n",
      "v19_2009dd SN II 1.1_HostExtCorr\n",
      "v19_2009ib SN II 1.1_HostExtCorr\n",
      "v19_2009ip SN IIn 1.1_HostExtCorr\n",
      "v19_2009kr SN II 1.1_HostExtCorr\n",
      "v19_2010al SN IIn 1.1_HostExtCorr\n",
      "v19_2011dh SN IIb 1.1_HostExtCorr\n",
      "v19_2011ei SN IIb 1.1_HostExtCorr\n",
      "v19_2011fu SN IIb 1.1_HostExtCorr\n",
      "v19_2011hs SN IIb 1.1_HostExtCorr\n",
      "v19_2011ht SN IIn 1.1_HostExtCorr\n",
      "v19_2012a SN II 1.1_HostExtCorr\n",
      "v19_2012aw SN II 1.1_HostExtCorr\n",
      "v19_2013ab SN II 1.1_HostExtCorr\n",
      "v19_2013am SN II 1.1_HostExtCorr\n",
      "v19_2013by SN II 1.1_HostExtCorr\n",
      "v19_2013df SN IIb 1.1_HostExtCorr\n",
      "v19_2013ej SN II 1.1_HostExtCorr\n",
      "v19_2013fs SN II 1.1_HostExtCorr\n",
      "v19_2014g SN II 1.1_HostExtCorr\n",
      "v19_2016x SN II 1.1_HostExtCorr\n",
      "v19_2016bkv SN II 1.1_HostExtCorr\n",
      "v19_2016gkg SN IIb 1.1_HostExtCorr\n",
      "41\n"
     ]
    }
   ],
   "source": [
    "count = 0\n",
    "for source in sources:\n",
    "    if \" II\" in source['type'] and \"_HostExtCorr\" in source['version']:\n",
    "        print(source['name'], source['type'], source['version'])\n",
    "        count += 1\n",
    "print(count)"
   ]
  },
  {
   "cell_type": "code",
   "execution_count": null,
   "metadata": {},
   "outputs": [],
   "source": []
  }
 ],
 "metadata": {
  "kernelspec": {
   "display_name": "Python 3",
   "language": "python",
   "name": "python3"
  },
  "language_info": {
   "codemirror_mode": {
    "name": "ipython",
    "version": 3
   },
   "file_extension": ".py",
   "mimetype": "text/x-python",
   "name": "python",
   "nbconvert_exporter": "python",
   "pygments_lexer": "ipython3",
   "version": "3.7.1"
  }
 },
 "nbformat": 4,
 "nbformat_minor": 2
}
